{
 "cells": [
  {
   "cell_type": "markdown",
   "metadata": {},
   "source": [
    "# Pandas Dataframe"
   ]
  },
  {
   "cell_type": "code",
   "execution_count": 12,
   "metadata": {},
   "outputs": [
    {
     "name": "stdout",
     "output_type": "stream",
     "text": [
      "Enter URl: https://raw.githubusercontent.com/usama6naseer/largest_object/master/log.csv\n",
      "    9       qq.com\n",
      "0  11   taobao.com\n",
      "1  12  twitter.com\n",
      "2  15       vk.com\n",
      "3  16     live.com\n",
      "4  21    weibo.com\n",
      "<class 'pandas.core.frame.DataFrame'>\n",
      "RangeIndex: 15037 entries, 0 to 15036\n",
      "Data columns (total 2 columns):\n",
      " #   Column  Non-Null Count  Dtype \n",
      "---  ------  --------------  ----- \n",
      " 0   9       15037 non-null  int64 \n",
      " 1   qq.com  15037 non-null  object\n",
      "dtypes: int64(1), object(1)\n",
      "memory usage: 235.1+ KB\n",
      "None\n"
     ]
    }
   ],
   "source": [
    "#creating pandas dataframe from any given url\n",
    "\n",
    "import pandas as pd\n",
    "\n",
    "def dframe(url):\n",
    "    df=pd.read_csv(url)\n",
    "    print(df.head())\n",
    "    print(df.info())\n",
    "\n",
    "try:\n",
    "    url=input(\"Enter URl: \")\n",
    "    dframe(url)\n",
    "except FileNotFoundError:\n",
    "    print(\"URL is invaid\")"
   ]
  },
  {
   "cell_type": "code",
   "execution_count": null,
   "metadata": {},
   "outputs": [],
   "source": []
  }
 ],
 "metadata": {
  "kernelspec": {
   "display_name": "Python 3",
   "language": "python",
   "name": "python3"
  },
  "language_info": {
   "codemirror_mode": {
    "name": "ipython",
    "version": 3
   },
   "file_extension": ".py",
   "mimetype": "text/x-python",
   "name": "python",
   "nbconvert_exporter": "python",
   "pygments_lexer": "ipython3",
   "version": "3.8.3"
  }
 },
 "nbformat": 4,
 "nbformat_minor": 4
}
